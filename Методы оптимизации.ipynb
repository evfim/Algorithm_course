{
 "cells": [
  {
   "cell_type": "markdown",
   "metadata": {},
   "source": [
    "## Домашняя работа по методам оптимизации##\n",
    "### вариант №50\n",
    "#### Ефим 1-16-7"
   ]
  },
  {
   "cell_type": "markdown",
   "metadata": {},
   "source": [
    "Найти минимум функции ($\\xi$=0,001)\n",
    "\n",
    "$y=x^2-7x+\\frac{12}{x-1,75}$\n",
    "\n",
    "на отрезке [3,5;5]\n",
    "\n",
    "\n",
    "\n",
    "\n"
   ]
  },
  {
   "cell_type": "code",
   "execution_count": 1,
   "metadata": {},
   "outputs": [],
   "source": [
    "def y(x):\n",
    "    return x**2-7*x+12/(x-1.75) #это мы задаем так функцию в Python3\n",
    "\n",
    "a=3.5\n",
    "b=5\n",
    "e=0.001"
   ]
  },
  {
   "cell_type": "markdown",
   "metadata": {},
   "source": [
    "#### 1)Реализуем метод пассивного поиска(здесь и далее буду ипользовать Python 3 версии)"
   ]
  },
  {
   "cell_type": "code",
   "execution_count": 2,
   "metadata": {},
   "outputs": [
    {
     "data": {
      "text/plain": [
       "1500"
      ]
     },
     "execution_count": 2,
     "metadata": {},
     "output_type": "execute_result"
    }
   ],
   "source": [
    "k=(5-3.5)/e\n",
    "k=int(k)\n",
    "k"
   ]
  },
  {
   "cell_type": "code",
   "execution_count": 3,
   "metadata": {},
   "outputs": [
    {
     "data": {
      "text/plain": [
       "(4.372, -6.912956961098399, -6.912953811140788, -6.912956779641631)"
      ]
     },
     "execution_count": 3,
     "metadata": {},
     "output_type": "execute_result"
    }
   ],
   "source": [
    "minf=10000000000000000\n",
    "xi=3.5\n",
    "for i in range(k+1):# range(n) это функция которая выдает список с элементами от 0 до n\n",
    "    xi=a+(b-a)*i/k\n",
    "    if y(xi)<minf:\n",
    "        minf=y(xi)\n",
    "        minx=xi\n",
    "minx,y(minx),y(minx-e),y(minx+e)"
   ]
  },
  {
   "cell_type": "markdown",
   "metadata": {},
   "source": [
    "Минимум y(x) достигается при $x\\in[4.371;4.373]$ с погрешностью $\\xi$=0,001\n",
    "\n"
   ]
  },
  {
   "cell_type": "markdown",
   "metadata": {},
   "source": [
    "#### 2)Реализуем метод дихотомии"
   ]
  },
  {
   "cell_type": "code",
   "execution_count": 4,
   "metadata": {},
   "outputs": [
    {
     "data": {
      "text/plain": [
       "(4.3720236816406235, 4.372889770507812, -6.912956995307712, -6.912956962967293)"
      ]
     },
     "execution_count": 4,
     "metadata": {},
     "output_type": "execute_result"
    }
   ],
   "source": [
    "sigm=e/2\n",
    "ai=a\n",
    "bi=b\n",
    "for i in range(1500):\n",
    "    ci=(ai+bi)/2-sigm/2\n",
    "    di=(ai+bi)/2+sigm/2\n",
    "    if y(ci)<y(di):\n",
    "        bi=di\n",
    "    if y(ci)>y(di):\n",
    "        ai=ci\n",
    "    if (bi-ai)<=e:\n",
    "        break #выходим из цикла\n",
    "        \n",
    "ai,bi,y(ai),y(bi)"
   ]
  },
  {
   "cell_type": "markdown",
   "metadata": {},
   "source": [
    "Минимум достигается при $x\\in[4.372;4.374]$ с погрешностью $\\xi$=0,001"
   ]
  },
  {
   "cell_type": "markdown",
   "metadata": {},
   "source": [
    "#### 3)Реализуем метод золотого сечения"
   ]
  },
  {
   "cell_type": "code",
   "execution_count": 5,
   "metadata": {},
   "outputs": [],
   "source": [
    "k1=(3-5**0.5)/2 # ** возвести в степень, т.е. 5**0.5 это корень из 5\n",
    "k2=(5**0.5-1)/2"
   ]
  },
  {
   "cell_type": "code",
   "execution_count": 6,
   "metadata": {},
   "outputs": [
    {
     "data": {
      "text/plain": [
       "(4.3722495290060746, 4.372929184786752, -6.912957227687728, -6.912956902063545)"
      ]
     },
     "execution_count": 6,
     "metadata": {},
     "output_type": "execute_result"
    }
   ],
   "source": [
    "ai=a\n",
    "bi=b\n",
    "ci=k1*(bi-ai)+ai\n",
    "di=k2*(bi-ai)+ai\n",
    "for i in range(1500):\n",
    "    if y(ci)<=y(di):\n",
    "        bi=di\n",
    "        di=ci\n",
    "        ci=k1*(bi-ai)+ai\n",
    "    else:\n",
    "        ai=ci\n",
    "        ci=di\n",
    "        di=k2*(bi-ai)+ai\n",
    "    if 0.5*(k2**(i-1))*(b-a)<=e:\n",
    "        break\n",
    "ai,bi,y(ai),y(bi)"
   ]
  },
  {
   "cell_type": "markdown",
   "metadata": {},
   "source": [
    "x=4.3722495290060746 Минимум y(x)равен -6.9129569"
   ]
  },
  {
   "cell_type": "markdown",
   "metadata": {},
   "source": [
    "Достигается при $x\\in[4.371;4.373]$ с погрешностью $\\xi$=0,001"
   ]
  },
  {
   "cell_type": "markdown",
   "metadata": {},
   "source": [
    "#### 4)Реализуем метод Фибоначчи"
   ]
  },
  {
   "cell_type": "code",
   "execution_count": 7,
   "metadata": {},
   "outputs": [
    {
     "name": "stdout",
     "output_type": "stream",
     "text": [
      "[1, 1, 2, 3, 5, 8, 13, 21, 34, 55, 89, 144, 233, 377, 610, 987, 1597, 2584, 4181]\n"
     ]
    },
    {
     "data": {
      "text/plain": [
       "1500.0"
      ]
     },
     "execution_count": 7,
     "metadata": {},
     "output_type": "execute_result"
    }
   ],
   "source": [
    "fn=1\n",
    "fn1=1\n",
    "fn2=2\n",
    "F=[1,1]\n",
    "for i in range(17):\n",
    "    F.append(fn2)\n",
    "    fn=fn1\n",
    "    fn1=fn2\n",
    "    fn2=fn1+fn\n",
    "print(F)# Это последовательность Фибоначчи\n",
    "\n",
    "Fn2=(b-a)/e\n",
    "Fn2"
   ]
  },
  {
   "cell_type": "markdown",
   "metadata": {},
   "source": [
    "т.к. Fn+2>Fn2 то n=17-2=15"
   ]
  },
  {
   "cell_type": "code",
   "execution_count": 8,
   "metadata": {},
   "outputs": [
    {
     "data": {
      "text/plain": [
       "(4.372340542140115, 4.373861079992391, -6.912957273301478, -6.912953955195802)"
      ]
     },
     "execution_count": 8,
     "metadata": {},
     "output_type": "execute_result"
    }
   ],
   "source": [
    "ai=a\n",
    "bi=b\n",
    "n=15-1\n",
    "ci=ai+(bi-ai)*F[n-2]/F[n]\n",
    "di=ai+(bi-ai)*F[n-1]/F[n]\n",
    "for i in range(n+1):\n",
    "    if y(ci)>y(di):\n",
    "        ai=ci\n",
    "        ci=di\n",
    "        di=ai+(bi-ai)*F[n-1-i]/F[n-i]\n",
    "    else:\n",
    "        bi=di\n",
    "        di=ci\n",
    "        ci=ai+(bi-ai)*F[n-2-i]/F[n-i]\n",
    "ai,bi,y(ai),y(bi)  "
   ]
  },
  {
   "cell_type": "markdown",
   "metadata": {},
   "source": [
    "x=4.372"
   ]
  },
  {
   "cell_type": "markdown",
   "metadata": {},
   "source": [
    "Минимум y(x) достигается при $x\\in [4.371;4.373]$ с погрешностью $\\xi$=0,001"
   ]
  },
  {
   "cell_type": "markdown",
   "metadata": {},
   "source": [
    "#### 5)Реализуем метод касательных"
   ]
  },
  {
   "cell_type": "code",
   "execution_count": 9,
   "metadata": {},
   "outputs": [],
   "source": [
    "def y1(x):\n",
    "    return 2*x-12/((x-1.75)**2)-7 #зададим первую производную"
   ]
  },
  {
   "cell_type": "code",
   "execution_count": 11,
   "metadata": {},
   "outputs": [
    {
     "data": {
      "text/plain": [
       "(4.372363309224422, 4.372363309224422, 4.373165013685165, -6.912957280397538)"
      ]
     },
     "execution_count": 11,
     "metadata": {},
     "output_type": "execute_result"
    }
   ],
   "source": [
    "ai=a\n",
    "bi=b\n",
    "xi=(y(ai)-y(bi)-y1(ai)*ai+y1(bi)*bi)/(y1(bi)-y1(ai))\n",
    "for i in range(1500):\n",
    "    if y1(xi)>0:\n",
    "        bi=xi\n",
    "    if y1(xi)<0:\n",
    "        ai=xi\n",
    "    if abs(bi-ai)<e:\n",
    "        break\n",
    "    xi=(y(ai)-y(bi)-y1(ai)*ai+y1(bi)*bi)/(y1(bi)-y1(ai))\n",
    "xi,ai,bi,y(xi)\n"
   ]
  },
  {
   "cell_type": "markdown",
   "metadata": {},
   "source": [
    "x=4.372"
   ]
  },
  {
   "cell_type": "markdown",
   "metadata": {},
   "source": [
    "Минимум  достигается при $x\\in[4.371;4.373]$ с погрешностью $\\xi$=0,001"
   ]
  },
  {
   "cell_type": "markdown",
   "metadata": {},
   "source": [
    "#### 6)Реализуем метод Ньютона-Рафсона"
   ]
  },
  {
   "cell_type": "code",
   "execution_count": 10,
   "metadata": {},
   "outputs": [],
   "source": [
    "def y2(x):\n",
    "    return 24/(x-1.75)**3 +2 #зададим вторую производную"
   ]
  },
  {
   "cell_type": "code",
   "execution_count": 12,
   "metadata": {},
   "outputs": [
    {
     "data": {
      "text/plain": [
       "(4.3724424211415265, -6.912957291632199)"
      ]
     },
     "execution_count": 12,
     "metadata": {},
     "output_type": "execute_result"
    }
   ],
   "source": [
    "xi=(a+b)/2\n",
    "for i in range(1600):\n",
    "    xi=xi-y1(xi)/y2(xi)\n",
    "    if abs(y1(xi))<=e/2:\n",
    "\n",
    "        break\n",
    "    \n",
    "xi,y(xi)"
   ]
  },
  {
   "cell_type": "markdown",
   "metadata": {},
   "source": [
    "x=4.3724424211415265"
   ]
  },
  {
   "cell_type": "markdown",
   "metadata": {},
   "source": [
    "Минимум достигается при $x\\in[4.371;4.373]$ с погрешностью $\\xi$=0,001"
   ]
  },
  {
   "cell_type": "code",
   "execution_count": null,
   "metadata": {},
   "outputs": [],
   "source": []
  }
 ],
 "metadata": {
  "kernelspec": {
   "display_name": "myenv",
   "language": "python",
   "name": "myenv"
  },
  "language_info": {
   "codemirror_mode": {
    "name": "ipython",
    "version": 3
   },
   "file_extension": ".py",
   "mimetype": "text/x-python",
   "name": "python",
   "nbconvert_exporter": "python",
   "pygments_lexer": "ipython3",
   "version": "3.6.5"
  }
 },
 "nbformat": 4,
 "nbformat_minor": 2
}
