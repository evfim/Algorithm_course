{
  "nbformat": 4,
  "nbformat_minor": 0,
  "metadata": {
    "colab": {
      "name": "Copy of RSA.ipynb",
      "provenance": [],
      "collapsed_sections": [],
      "include_colab_link": true
    },
    "kernelspec": {
      "name": "python3",
      "display_name": "Python 3"
    }
  },
  "cells": [
    {
      "cell_type": "markdown",
      "metadata": {
        "id": "view-in-github",
        "colab_type": "text"
      },
      "source": [
        "<a href=\"https://colab.research.google.com/github/evfim/Algorithm_course/blob/master/RSA.ipynb\" target=\"_parent\"><img src=\"https://colab.research.google.com/assets/colab-badge.svg\" alt=\"Open In Colab\"/></a>"
      ]
    },
    {
      "cell_type": "markdown",
      "metadata": {
        "id": "qtdY_vLjFWqx",
        "colab_type": "text"
      },
      "source": [
        "# **RSA algorithm. Practice.**"
      ]
    },
    {
      "cell_type": "markdown",
      "metadata": {
        "id": "eyWEXvPKGct7",
        "colab_type": "text"
      },
      "source": [
        "### **Encryption and decryption processes in the RSA system **"
      ]
    },
    {
      "cell_type": "markdown",
      "metadata": {
        "id": "Os9bEgPzFxcd",
        "colab_type": "text"
      },
      "source": [
        "\n",
        "\n",
        "To encrypt a message using the RSA method, a user needs to know the value of the module N and the public key e — these values ​​are publicly available.. The values of p and q and the decryption key d are known only to the \"master\" of the used cryptographic system. In order to encrypt a message sent to the master, which is the only one the master can read, the user must: \n"
      ]
    },
    {
      "cell_type": "markdown",
      "metadata": {
        "id": "2QyktrNaGizd",
        "colab_type": "text"
      },
      "source": [
        "1)Convert the letters of the message into numbers in some way( according to the ASCII code, or use the ready-made representation of the message as a sequence of numbers)  \n",
        "\n",
        "2)If Mod(N)  contains no more than D digits,it is necessary to divide the numeric representation of the message into blocks, each of which contains no more than D digits; these blocks are denoted as T1, T2, T3, ...; \n",
        "\n",
        "3)Encrypt the blocks independently of each other by calculating $(Ti)^е (mod N),i=1,2,3...$;\n"
      ]
    },
    {
      "cell_type": "markdown",
      "metadata": {
        "id": "11oVSTeBJNND",
        "colab_type": "text"
      },
      "source": [
        "The encrypted message is written S1, S2, S3 ... - as a sequence of numbers, not letters."
      ]
    },
    {
      "cell_type": "markdown",
      "metadata": {
        "id": "VGZI3ApNKRiM",
        "colab_type": "text"
      },
      "source": [
        "To encrypt text using the RSA method, you should:\n",
        "\n",
        "1)Take the large number N = pq, which is the product of only two different primes p and q. The question of exactly how to find very \n",
        "large primes is very appropriate. In general, a significant amount of computation is required. Since the primes used in this case cannot have a special form, no really fast methods have been found to date. \n",
        "\n",
        "1)Take an integer e, called a public key or an encryption key, that does not have common divisors with (p - 1) (q - 1) and with the number N. To decrypt the text encrypted using the RSA method, you need to determine another number.\n",
        "\n",
        "3)Find an integer d called a secret key or decryption key that satisfies the condition $$ed \\equiv 1 \\pmod{((p – 1)(q -1))}$$"
      ]
    },
    {
      "cell_type": "markdown",
      "metadata": {
        "id": "sPBF9vxwLaer",
        "colab_type": "text"
      },
      "source": [
        "### problem conditions"
      ]
    },
    {
      "cell_type": "markdown",
      "metadata": {
        "id": "QNzdhBA-Lm5t",
        "colab_type": "text"
      },
      "source": [
        "$$N=11227;e=2899;S_{1}=7654,S_{2}=7029,S_{3}=1830,S_{4}=3701$$\n",
        "$T_{1},T_{2},T_{3},T_{4}$ -?"
      ]
    },
    {
      "cell_type": "code",
      "metadata": {
        "id": "rs6_exc_Njup",
        "colab_type": "code",
        "colab": {}
      },
      "source": [
        "N=11227\t\n",
        "e=2899\n",
        "S1=7654\n",
        "S2=7029\n",
        "S3=1830\n",
        "S4=3701"
      ],
      "execution_count": 0,
      "outputs": []
    },
    {
      "cell_type": "code",
      "metadata": {
        "id": "nOGf0_QiLmqk",
        "colab_type": "code",
        "colab": {}
      },
      "source": [
        "def find_pq(N):\n",
        "  for i in range(2,N):\n",
        "    if N%i==0:  # N%i==0 means that  N ≡ 0 (mod i)\n",
        "      p=i\n",
        "      q=int(N/i)\n",
        "      return p,q\n"
      ],
      "execution_count": 0,
      "outputs": []
    },
    {
      "cell_type": "code",
      "metadata": {
        "id": "SQcik8-PJOCk",
        "colab_type": "code",
        "colab": {}
      },
      "source": [
        "def bezout(a, b):\n",
        "    '''An implementation of extended Euclidean algorithm.\n",
        "    Returns integer x, y and gcd(a, b) for Bezout equation:\n",
        "        ax + by = gcd(a, b).\n",
        "    '''\n",
        "    x, xx, y, yy = 1, 0, 0, 1\n",
        "    while b:\n",
        "        q = a // b\n",
        "        a, b = b, a % b\n",
        "        x, xx = xx, x - xx*q\n",
        "        y, yy = yy, y - yy*q\n",
        "    return (x, y, a)"
      ],
      "execution_count": 0,
      "outputs": []
    },
    {
      "cell_type": "code",
      "metadata": {
        "id": "8XtcZrpxOO2o",
        "colab_type": "code",
        "colab": {}
      },
      "source": [
        "def fastExp(x, y,m):\n",
        "    def even(y):\n",
        "        if y%2==0:\n",
        "            return 1\n",
        "        return 0\n",
        "    if y==0:\n",
        "        return 1\n",
        "    if even(y):\n",
        "        return (fastExp(x, y/2,m)**2)%m\n",
        "    return (x*fastExp(x, y-1,m))%m\n"
      ],
      "execution_count": 0,
      "outputs": []
    },
    {
      "cell_type": "code",
      "metadata": {
        "id": "boIfTyVMq3jJ",
        "colab_type": "code",
        "colab": {}
      },
      "source": [
        "def decrypt(S,N,e,k=2):\n",
        "\n",
        "  p,q=find_pq(N)\n",
        "  fi=(p-1)*(q-1)  \n",
        "  d=bezout(e,fi)[0]\n",
        "  T=fastExp(S,d,N)\n",
        "\n",
        "  if k==1:\n",
        "    print('p=',p,' q=',q)\n",
        "    print('fi=',fi)\n",
        "    print('d=',d)\n",
        "\n",
        "  return T"
      ],
      "execution_count": 0,
      "outputs": []
    },
    {
      "cell_type": "code",
      "metadata": {
        "id": "4l5dP2I7sEyY",
        "colab_type": "code",
        "outputId": "ac289f5f-4e33-49e2-da61-c961ab64b268",
        "colab": {
          "base_uri": "https://localhost:8080/",
          "height": 139
        }
      },
      "source": [
        "T1=decrypt(S1,N,e,1)\n",
        "print('S1=',S1,'T1=',T1)\n",
        "T2=decrypt(S2,N,e)\n",
        "print('S2=',S2,'T2=',T2)\n",
        "T3=decrypt(S3,N,e)\n",
        "print('S1=',S3,'T1=',T3)\n",
        "T4=decrypt(S4,N,e)\n",
        "print('S4=',S4,'T4=',T4)"
      ],
      "execution_count": 6,
      "outputs": [
        {
          "output_type": "stream",
          "text": [
            "p= 103  q= 109\n",
            "fi= 11016\n",
            "d= 19\n",
            "S1= 7654 T1= 2299\n",
            "S2= 7029 T2= 5027\n",
            "S1= 1830 T1= 8198\n",
            "S4= 3701 T4= 9694\n"
          ],
          "name": "stdout"
        }
      ]
    },
    {
      "cell_type": "markdown",
      "metadata": {
        "id": "w9m_WM6kuujN",
        "colab_type": "text"
      },
      "source": [
        "##Let's check our results via encryption of T1,T2,T3,T4:"
      ]
    },
    {
      "cell_type": "code",
      "metadata": {
        "id": "ZYbwfTKNsKDM",
        "colab_type": "code",
        "outputId": "ecff3b1b-f426-4567-c049-5294f06e90a3",
        "colab": {
          "base_uri": "https://localhost:8080/",
          "height": 87
        }
      },
      "source": [
        "for i in T1,T2,T3,T4:\n",
        "  print(fastExp(i,e,N))"
      ],
      "execution_count": 7,
      "outputs": [
        {
          "output_type": "stream",
          "text": [
            "7654\n",
            "7029\n",
            "1830\n",
            "3701\n"
          ],
          "name": "stdout"
        }
      ]
    },
    {
      "cell_type": "code",
      "metadata": {
        "id": "fKNnJ05k402E",
        "colab_type": "code",
        "colab": {}
      },
      "source": [
        ""
      ],
      "execution_count": 0,
      "outputs": []
    }
  ]
}