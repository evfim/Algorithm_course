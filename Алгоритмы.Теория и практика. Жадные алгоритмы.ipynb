{
 "cells": [
  {
   "cell_type": "markdown",
   "metadata": {},
   "source": [
    "# Алгоритмы.Теория и практика. Методы\n",
    "## Жадные алгоритмы"
   ]
  },
  {
   "cell_type": "markdown",
   "metadata": {},
   "source": [
    "### 1)Задача на программирование: покрыть отрезки точками\n",
    "\n",
    "\n",
    "По данным 𝑛 отрезкам необходимо найти множество точек минимального размера, для которого каждый из отрезков содержит хотя бы одну из точек.\n",
    "\n",
    "В первой строке дано число 1≤𝑛≤100 отрезков. Каждая из последующих 𝑛 строк содержит по два числа 0≤𝑙≤𝑟≤109, задающих начало и конец отрезка. Выведите оптимальное число 𝑚 точек и сами 𝑚 точек. Если таких множеств точек несколько, выведите любое из них."
   ]
  },
  {
   "cell_type": "markdown",
   "metadata": {},
   "source": [
    "### Решение:\n",
    "###### 1) Сортируем отрезки по правому краю\n",
    "###### 2) Пока множество отрезков не пусто, берем отрезок с наименьшей координатой правого конца и ставим в этом месте точку\n",
    "###### 3) Удаляем все отрезки, которые перекрылись этой точкой\n",
    "###### 4) Если отрезки закончились или вышли началом за нашу точку, то выходим из цикла"
   ]
  },
  {
   "cell_type": "code",
   "execution_count": 2,
   "metadata": {},
   "outputs": [
    {
     "name": "stdout",
     "output_type": "stream",
     "text": [
      "3\n",
      "1 3\n",
      "2 5\n",
      "3 6\n",
      "1\n",
      "3\n"
     ]
    }
   ],
   "source": [
    "n=int(input())\n",
    "S = []\n",
    "P=[]\n",
    "\n",
    "for i in range(1,n+1):\n",
    "  x= [float(j) for j in input().split()]\n",
    "  S.append(x)\n",
    "\n",
    "\n",
    "\n",
    "def getKey(item):\n",
    "    return item[1]\n",
    "S.sort(key = getKey)  \n",
    "while len(S)>0:\n",
    "    p=S[0][1]\n",
    "    P.append(p)\n",
    "    Del=[]\n",
    "    for i in reversed(range(len(S))):\n",
    "        if i<len(S):\n",
    "        \n",
    "            if S[i][0]<=p:\n",
    "                S.pop(i)\n",
    "print(len(P))\n",
    "Answer=str(int(P[0]))\n",
    "P.pop(0)\n",
    "for i in P:\n",
    "    Answer=Answer+' '+str(int(i))\n",
    "print(Answer)        "
   ]
  },
  {
   "cell_type": "markdown",
   "metadata": {},
   "source": [
    "## Задача на программирование: непрерывный рюкзак\n",
    "\n",
    "\n",
    "Первая строка содержит количество предметов 1≤𝑛≤103 и вместимость рюкзака 0≤𝑊≤2⋅106. Каждая из следующих 𝑛 строк задаёт стоимость 0≤𝑐𝑖≤2⋅106 и объём 0<𝑤𝑖≤2⋅106 предмета (𝑛, 𝑊, 𝑐𝑖, 𝑤𝑖 — целые числа). Выведите максимальную стоимость частей предметов (от каждого предмета можно отделить любую часть, стоимость и объём при этом пропорционально уменьшатся), помещающихся в данный рюкзак, с точностью не менее трёх знаков после запятой."
   ]
  },
  {
   "cell_type": "code",
   "execution_count": 26,
   "metadata": {},
   "outputs": [
    {
     "name": "stdout",
     "output_type": "stream",
     "text": [
      "3 50\n",
      "60 20\n",
      "100 50\n",
      "120 30\n",
      "180.0\n"
     ]
    }
   ],
   "source": [
    "\n",
    "N,W=input().split()\n",
    "N=int(N)\n",
    "W=int(W)\n",
    "S=[]\n",
    "total=float(0)\n",
    "for i in range(N):\n",
    "    x= [float(j) for j in input().split()]\n",
    "    x.append(x[0]/x[1])\n",
    "    S.append(x)\n",
    "S=sorted(S, key=lambda x: x[2],reverse=True)\n",
    "\n",
    "while(W>0):\n",
    "    if len(S)==0:\n",
    "        break\n",
    "    if S[0][1]>W:\n",
    "        total=total+W*S[0][2]\n",
    "        W=0\n",
    "    else:\n",
    "        total=total+S[0][0]\n",
    "        W=W-S[0][1]\n",
    "        S.pop(0)\n",
    "print(total)"
   ]
  },
  {
   "cell_type": "markdown",
   "metadata": {},
   "source": [
    "## 3) Задача на программирование: различные слагаемые\n",
    "По данному числу 1≤𝑛≤109 найдите максимальное число 𝑘, для которого 𝑛 можно представить как сумму 𝑘 различных натуральных слагаемых. Выведите в первой строке число 𝑘, во второй — 𝑘 слагаемых."
   ]
  },
  {
   "cell_type": "code",
   "execution_count": 53,
   "metadata": {},
   "outputs": [
    {
     "name": "stdout",
     "output_type": "stream",
     "text": [
      "4\n",
      "2\n",
      "1 3\n"
     ]
    }
   ],
   "source": [
    "n=int(input())\n",
    "S=[]\n",
    "sum=0\n",
    "k=int((-1+(1+8*n)**0.5)/2)\n",
    "for i in range(1,k):\n",
    "    sum=sum+i\n",
    "    S.append(i)\n",
    "S.append(n-sum)\n",
    "print(k)\n",
    "Answer=str(int(S[0]))\n",
    "S.pop(0)\n",
    "for i in S:\n",
    "    Answer=Answer+' '+str(int(i))\n",
    "print(Answer)"
   ]
  }
 ],
 "metadata": {
  "kernelspec": {
   "display_name": "Python 3",
   "language": "python",
   "name": "python3"
  },
  "language_info": {
   "codemirror_mode": {
    "name": "ipython",
    "version": 3
   },
   "file_extension": ".py",
   "mimetype": "text/x-python",
   "name": "python",
   "nbconvert_exporter": "python",
   "pygments_lexer": "ipython3",
   "version": "3.6.7"
  }
 },
 "nbformat": 4,
 "nbformat_minor": 2
}
